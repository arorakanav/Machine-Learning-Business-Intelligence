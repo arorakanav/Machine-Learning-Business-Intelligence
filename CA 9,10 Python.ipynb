{
 "cells": [
  {
   "cell_type": "code",
   "execution_count": 1,
   "metadata": {},
   "outputs": [],
   "source": [
    "import PIL\n",
    "from PIL import Image\n",
    "\n",
    "image = Image.open('dogs.jpeg')\n",
    "\n"
   ]
  },
  {
   "cell_type": "code",
   "execution_count": 2,
   "metadata": {},
   "outputs": [
    {
     "name": "stdout",
     "output_type": "stream",
     "text": [
      "(185, 272, 3)\n"
     ]
    }
   ],
   "source": [
    "from numpy import asarray\n",
    "\n",
    "\n",
    "dogs = asarray(image)\n",
    "\n",
    "data = dogs / 255.0 # use 0...1 scale\n",
    "\n",
    "print(data.shape)\n"
   ]
  },
  {
   "cell_type": "code",
   "execution_count": 3,
   "metadata": {
    "scrolled": true
   },
   "outputs": [
    {
     "name": "stdout",
     "output_type": "stream",
     "text": [
      "(50320, 2)\n",
      "(50320, 3)\n"
     ]
    }
   ],
   "source": [
    "from sklearn.decomposition import PCA\n",
    "\n",
    "\n",
    "data_reshape = data.reshape(185 * 272, 3)\n",
    "pca = PCA(n_components=2)\n",
    "\n",
    "# prepare transform on dataset\n",
    "pca.fit(data_reshape)\n",
    "\n",
    "# apply transform to dataset\n",
    "transformed_data = pca.transform(data_reshape)\n",
    "\n",
    "print(transformed_data.shape)\n",
    "print(data_reshape.shape)"
   ]
  },
  {
   "cell_type": "code",
   "execution_count": 4,
   "metadata": {},
   "outputs": [
    {
     "data": {
      "text/plain": [
       "<matplotlib.image.AxesImage at 0x7f97b04391d0>"
      ]
     },
     "execution_count": 4,
     "metadata": {},
     "output_type": "execute_result"
    },
    {
     "data": {
      "image/png": "[encoded data removed]",
      "text/plain": [
       "<Figure size 432x288 with 1 Axes>"
      ]
     },
     "metadata": {
      "needs_background": "light"
     },
     "output_type": "display_data"
    }
   ],
   "source": [
    "from sklearn.cluster import KMeans\n",
    "\n",
    "import  matplotlib.pyplot as plt\n",
    "\n",
    "kmeans = KMeans(3)\n",
    "\n",
    "\n",
    "kmeans.fit(data_reshape)\n",
    "\n",
    "labels = kmeans.predict(data_reshape)\n",
    "\n",
    "new_colors = kmeans.cluster_centers_[labels]\n",
    "\n",
    "dogs_recolored = new_colors.reshape(data.shape)\n",
    "\n",
    "\n",
    "plt.imshow(dogs_recolored)\n"
   ]
  },
  {
   "cell_type": "code",
   "execution_count": 5,
   "metadata": {},
   "outputs": [
    {
     "name": "stdout",
     "output_type": "stream",
     "text": [
      "[[210.63855422 174.83861979 143.72395705]\n",
      " [ 29.51503718  21.58366142  20.47599519]\n",
      " [251.48731784 247.68503858 243.16040543]]\n"
     ]
    }
   ],
   "source": [
    "centroids = kmeans.cluster_centers_\n",
    "print(centroids * 255)"
   ]
  },
  {
   "cell_type": "markdown",
   "metadata": {},
   "source": [
    "\n",
    "## Task 2 Supervised Learning -SVM -Week 9 content!\n"
   ]
  },
  {
   "cell_type": "code",
   "execution_count": 6,
   "metadata": {},
   "outputs": [],
   "source": [
    "import pandas as pd\n",
    "\n",
    "\n",
    "Collegedf = pd.read_csv('College.csv')"
   ]
  },
  {
   "cell_type": "code",
   "execution_count": 7,
   "metadata": {},
   "outputs": [],
   "source": [
    "from sklearn import preprocessing\n",
    "\n",
    "le = preprocessing.LabelEncoder()\n",
    "\n",
    "\n",
    "le.fit(Collegedf['Private'])\n",
    "\n",
    "Y = le.transform(Collegedf['Private'])\n"
   ]
  },
  {
   "cell_type": "code",
   "execution_count": 8,
   "metadata": {},
   "outputs": [],
   "source": [
    "from sklearn.model_selection import train_test_split\n",
    "\n",
    "CollegedfTrain , CollegedfTest, YTrain, YTest = train_test_split(Collegedf, Y, test_size=.20)\n",
    "\n",
    "# print(CollegedfTrain)\n",
    "XTrain = CollegedfTrain[['Apps', 'Accept', 'Enroll', 'Top10perc', 'Top25perc', 'F.Undergrad', 'P.Undergrad', 'Outstate', 'Room.Board', 'Books', 'Personal', 'PhD', 'Terminal', 'S.F.Ratio', 'perc.alumni', 'Expend', 'Grad.Rate']]\n",
    "\n",
    "XTest = CollegedfTest[['Apps', 'Accept', 'Enroll', 'Top10perc', 'Top25perc', 'F.Undergrad', 'P.Undergrad', 'Outstate', 'Room.Board', 'Books', 'Personal', 'PhD', 'Terminal', 'S.F.Ratio', 'perc.alumni', 'Expend', 'Grad.Rate']]\n",
    "\n",
    "\n"
   ]
  },
  {
   "cell_type": "code",
   "execution_count": 9,
   "metadata": {},
   "outputs": [
    {
     "name": "stdout",
     "output_type": "stream",
     "text": [
      "0.9423076923076923\n"
     ]
    },
    {
     "name": "stderr",
     "output_type": "stream",
     "text": [
      "/Users/kanavarora/opt/anaconda3/lib/python3.7/site-packages/sklearn/svm/_base.py:947: ConvergenceWarning: Liblinear failed to converge, increase the number of iterations.\n",
      "  \"the number of iterations.\", ConvergenceWarning)\n"
     ]
    }
   ],
   "source": [
    "from sklearn import svm, metrics \n",
    "\n",
    "# random state 0 so result is same every time we runt this\n",
    "lin_clf = svm.LinearSVC(random_state=0);\n",
    "lin_clf.fit(XTrain, YTrain)\n",
    "\n",
    "predicted = lin_clf.predict(XTest)\n",
    "\n",
    "accuracyScore = metrics.accuracy_score(YTest, predicted)\n",
    "print(accuracyScore)"
   ]
  },
  {
   "cell_type": "code",
   "execution_count": 10,
   "metadata": {},
   "outputs": [
    {
     "name": "stdout",
     "output_type": "stream",
     "text": [
      "0.9423076923076923\n"
     ]
    },
    {
     "name": "stderr",
     "output_type": "stream",
     "text": [
      "/Users/kanavarora/opt/anaconda3/lib/python3.7/site-packages/sklearn/svm/_base.py:947: ConvergenceWarning: Liblinear failed to converge, increase the number of iterations.\n",
      "  \"the number of iterations.\", ConvergenceWarning)\n"
     ]
    }
   ],
   "source": [
    "from sklearn.svm import LinearSVC\n",
    "from sklearn.pipeline import make_pipeline\n",
    "from sklearn.preprocessing import StandardScaler\n",
    "\n",
    "\n",
    "clf = make_pipeline(StandardScaler(), lin_clf)\n",
    "\n",
    "clf.fit(XTrain, YTrain)\n",
    "predictedPipeline = clf.predict(XTest)\n",
    "\n",
    "accuracyScorePipeline = metrics.accuracy_score(YTest, predicted)\n",
    "\n",
    "print(accuracyScorePipeline)"
   ]
  },
  {
   "cell_type": "code",
   "execution_count": 34,
   "metadata": {},
   "outputs": [],
   "source": [
    "#Function to print best hyperparamaters: \n",
    "def print_best_params(gd_model):\n",
    "    param_dict = gd_model.best_estimator_.get_params()\n",
    "    model_str = str(gd_model.estimator).split('(')[0]\n",
    "    print(\"\\n*** {} Best Parameters ***\".format(model_str))\n",
    "    for k in param_dict:\n",
    "        print(\"{}: {}\".format(k, param_dict[k]))\n",
    "    print()"
   ]
  },
  {
   "cell_type": "code",
   "execution_count": 35,
   "metadata": {},
   "outputs": [
    {
     "name": "stdout",
     "output_type": "stream",
     "text": [
      "Fitting 5 folds for each of 8 candidates, totalling 40 fits\n",
      "[CV] C=600, degree=2, kernel=rbf .....................................\n",
      "[CV] ......... C=600, degree=2, kernel=rbf, score=0.872, total=   0.0s\n",
      "[CV] C=600, degree=2, kernel=rbf .....................................\n",
      "[CV] ......... C=600, degree=2, kernel=rbf, score=0.935, total=   0.0s\n",
      "[CV] C=600, degree=2, kernel=rbf .....................................\n",
      "[CV] ......... C=600, degree=2, kernel=rbf, score=0.935, total=   0.0s\n",
      "[CV] C=600, degree=2, kernel=rbf .....................................\n",
      "[CV] ......... C=600, degree=2, kernel=rbf, score=0.887, total=   0.0s\n",
      "[CV] C=600, degree=2, kernel=rbf .....................................\n",
      "[CV] ......... C=600, degree=2, kernel=rbf, score=0.887, total=   0.0s\n",
      "[CV] C=600, degree=2, kernel=poly ....................................\n",
      "[CV] ........ C=600, degree=2, kernel=poly, score=0.912, total=   0.0s\n",
      "[CV] C=600, degree=2, kernel=poly ....................................\n",
      "[CV] ........ C=600, degree=2, kernel=poly, score=0.935, total=   0.0s\n",
      "[CV] C=600, degree=2, kernel=poly ....................................\n",
      "[CV] ........ C=600, degree=2, kernel=poly, score=0.935, total=   0.0s\n",
      "[CV] C=600, degree=2, kernel=poly ....................................\n",
      "[CV] ........ C=600, degree=2, kernel=poly, score=0.903, total=   0.0s\n",
      "[CV] C=600, degree=2, kernel=poly ....................................\n"
     ]
    },
    {
     "name": "stderr",
     "output_type": "stream",
     "text": [
      "[Parallel(n_jobs=1)]: Using backend SequentialBackend with 1 concurrent workers.\n",
      "[Parallel(n_jobs=1)]: Done   1 out of   1 | elapsed:    0.0s remaining:    0.0s\n",
      "[Parallel(n_jobs=1)]: Done   2 out of   2 | elapsed:    0.0s remaining:    0.0s\n"
     ]
    },
    {
     "name": "stdout",
     "output_type": "stream",
     "text": [
      "[CV] ........ C=600, degree=2, kernel=poly, score=0.919, total=   0.0s\n",
      "[CV] C=700, degree=2, kernel=rbf .....................................\n",
      "[CV] ......... C=700, degree=2, kernel=rbf, score=0.872, total=   0.0s\n",
      "[CV] C=700, degree=2, kernel=rbf .....................................\n",
      "[CV] ......... C=700, degree=2, kernel=rbf, score=0.935, total=   0.0s\n",
      "[CV] C=700, degree=2, kernel=rbf .....................................\n",
      "[CV] ......... C=700, degree=2, kernel=rbf, score=0.935, total=   0.0s\n",
      "[CV] C=700, degree=2, kernel=rbf .....................................\n",
      "[CV] ......... C=700, degree=2, kernel=rbf, score=0.887, total=   0.0s\n",
      "[CV] C=700, degree=2, kernel=rbf .....................................\n",
      "[CV] ......... C=700, degree=2, kernel=rbf, score=0.887, total=   0.0s\n",
      "[CV] C=700, degree=2, kernel=poly ....................................\n",
      "[CV] ........ C=700, degree=2, kernel=poly, score=0.912, total=   0.0s\n",
      "[CV] C=700, degree=2, kernel=poly ....................................\n",
      "[CV] ........ C=700, degree=2, kernel=poly, score=0.935, total=   0.0s\n",
      "[CV] C=700, degree=2, kernel=poly ....................................\n",
      "[CV] ........ C=700, degree=2, kernel=poly, score=0.944, total=   0.0s\n",
      "[CV] C=700, degree=2, kernel=poly ....................................\n",
      "[CV] ........ C=700, degree=2, kernel=poly, score=0.895, total=   0.0s\n",
      "[CV] C=700, degree=2, kernel=poly ....................................\n",
      "[CV] ........ C=700, degree=2, kernel=poly, score=0.919, total=   0.0s\n",
      "[CV] C=800, degree=2, kernel=rbf .....................................\n",
      "[CV] ......... C=800, degree=2, kernel=rbf, score=0.872, total=   0.0s\n",
      "[CV] C=800, degree=2, kernel=rbf .....................................\n",
      "[CV] ......... C=800, degree=2, kernel=rbf, score=0.927, total=   0.0s\n",
      "[CV] C=800, degree=2, kernel=rbf .....................................\n",
      "[CV] ......... C=800, degree=2, kernel=rbf, score=0.935, total=   0.0s\n",
      "[CV] C=800, degree=2, kernel=rbf .....................................\n",
      "[CV] ......... C=800, degree=2, kernel=rbf, score=0.887, total=   0.0s\n",
      "[CV] C=800, degree=2, kernel=rbf .....................................\n",
      "[CV] ......... C=800, degree=2, kernel=rbf, score=0.879, total=   0.0s\n",
      "[CV] C=800, degree=2, kernel=poly ....................................\n",
      "[CV] ........ C=800, degree=2, kernel=poly, score=0.912, total=   0.0s\n",
      "[CV] C=800, degree=2, kernel=poly ....................................\n",
      "[CV] ........ C=800, degree=2, kernel=poly, score=0.935, total=   0.0s\n",
      "[CV] C=800, degree=2, kernel=poly ....................................\n",
      "[CV] ........ C=800, degree=2, kernel=poly, score=0.944, total=   0.1s\n",
      "[CV] C=800, degree=2, kernel=poly ....................................\n",
      "[CV] ........ C=800, degree=2, kernel=poly, score=0.895, total=   0.1s\n",
      "[CV] C=800, degree=2, kernel=poly ....................................\n",
      "[CV] ........ C=800, degree=2, kernel=poly, score=0.911, total=   0.1s\n",
      "[CV] C=900, degree=2, kernel=rbf .....................................\n",
      "[CV] ......... C=900, degree=2, kernel=rbf, score=0.872, total=   0.1s\n",
      "[CV] C=900, degree=2, kernel=rbf .....................................\n",
      "[CV] ......... C=900, degree=2, kernel=rbf, score=0.919, total=   0.1s\n",
      "[CV] C=900, degree=2, kernel=rbf .....................................\n",
      "[CV] ......... C=900, degree=2, kernel=rbf, score=0.935, total=   0.1s\n",
      "[CV] C=900, degree=2, kernel=rbf .....................................\n",
      "[CV] ......... C=900, degree=2, kernel=rbf, score=0.887, total=   0.0s\n",
      "[CV] C=900, degree=2, kernel=rbf .....................................\n",
      "[CV] ......... C=900, degree=2, kernel=rbf, score=0.887, total=   0.1s\n",
      "[CV] C=900, degree=2, kernel=poly ....................................\n",
      "[CV] ........ C=900, degree=2, kernel=poly, score=0.912, total=   0.1s\n",
      "[CV] C=900, degree=2, kernel=poly ....................................\n",
      "[CV] ........ C=900, degree=2, kernel=poly, score=0.944, total=   0.1s\n",
      "[CV] C=900, degree=2, kernel=poly ....................................\n",
      "[CV] ........ C=900, degree=2, kernel=poly, score=0.944, total=   0.0s\n",
      "[CV] C=900, degree=2, kernel=poly ....................................\n",
      "[CV] ........ C=900, degree=2, kernel=poly, score=0.903, total=   0.0s\n",
      "[CV] C=900, degree=2, kernel=poly ....................................\n",
      "[CV] ........ C=900, degree=2, kernel=poly, score=0.903, total=   0.1s\n",
      "\n",
      "\n",
      "svr train score 0.953, svr test score: 0.974\n",
      "Accuracy Score : 0.9423076923076923\n",
      "\n",
      "*** SVC Best Parameters ***\n",
      "C: 900\n",
      "break_ties: False\n",
      "cache_size: 200\n",
      "class_weight: None\n",
      "coef0: 0.0\n",
      "decision_function_shape: ovr\n",
      "degree: 2\n",
      "gamma: scale\n",
      "kernel: poly\n",
      "max_iter: -1\n",
      "probability: False\n",
      "random_state: None\n",
      "shrinking: True\n",
      "tol: 0.001\n",
      "verbose: False\n",
      "\n"
     ]
    },
    {
     "name": "stderr",
     "output_type": "stream",
     "text": [
      "[Parallel(n_jobs=1)]: Done  40 out of  40 | elapsed:    1.4s finished\n"
     ]
    }
   ],
   "source": [
    "from sklearn.model_selection import GridSearchCV\n",
    "from sklearn.svm import SVC\n",
    "from sklearn.metrics import confusion_matrix\n",
    "\n",
    "\n",
    "param_grid_svr = dict(kernel=[ 'rbf', 'poly'],\n",
    "                     degree=[2],\n",
    "                     C=[600, 700, 800, 900])\n",
    "\n",
    "\n",
    "svr = GridSearchCV(SVC(), param_grid=param_grid_svr, cv=5, verbose=3)\n",
    "\n",
    "\n",
    "#fit model\n",
    "svr = svr.fit(XTrain,YTrain)\n",
    "\n",
    "\n",
    "#print score\n",
    "print('\\n\\nsvr train score %.3f, svr test score: %.3f' % (\n",
    "svr.score(XTrain,YTrain),\n",
    "svr.score(XTest, YTest)))\n",
    "\n",
    "\n",
    "#Predict values based on new parameters\n",
    "YPredAcc = grid_clf_acc.predict(XTest)\n",
    "\n",
    "\n",
    "print('Accuracy Score : ' + str(metrics.accuracy_score(YTest,YPredAcc)))\n",
    "\n",
    "\n",
    "print_best_params(svr)\n",
    "\n"
   ]
  },
  {
   "cell_type": "code",
   "execution_count": null,
   "metadata": {},
   "outputs": [],
   "source": []
  }
 ],
 "metadata": {
  "kernelspec": {
   "display_name": "Python 3",
   "language": "python",
   "name": "python3"
  },
  "language_info": {
   "codemirror_mode": {
    "name": "ipython",
    "version": 3
   },
   "file_extension": ".py",
   "mimetype": "text/x-python",
   "name": "python",
   "nbconvert_exporter": "python",
   "pygments_lexer": "ipython3",
   "version": "3.7.6"
  }
 },
 "nbformat": 4,
 "nbformat_minor": 4
}
